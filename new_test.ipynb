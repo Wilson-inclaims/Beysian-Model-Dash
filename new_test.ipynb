{
 "cells": [
  {
   "cell_type": "code",
   "execution_count": 1,
   "metadata": {},
   "outputs": [],
   "source": [
    "from pymc3 import *\n",
    "import numpy as np\n",
    "import matplotlib.pyplot as plt"
   ]
  },
  {
   "cell_type": "code",
   "execution_count": null,
   "metadata": {},
   "outputs": [],
   "source": [
    "\n",
    "size = 200\n",
    "true_intercept = 1\n",
    "true_slope = 2\n",
    "\n",
    "x = np.linspace(0, 1, size)\n",
    "# y = a + b*x\n",
    "true_regression_line = true_intercept + true_slope * x\n",
    "# add noise\n",
    "y = true_regression_line + np.random.normal(scale=.5, size=size)\n",
    "\n",
    "data = dict(x=x, y=y)"
   ]
  },
  {
   "cell_type": "code",
   "execution_count": null,
   "metadata": {},
   "outputs": [],
   "source": [
    "fig = plt.figure(figsize=(7, 7))\n",
    "ax = fig.add_subplot(111, xlabel='x', ylabel='y', title='Generated data and underlying model')\n",
    "ax.plot(x, y, 'x', label='sampled data')\n",
    "ax.plot(x, true_regression_line, label='true regression line', lw=2.)\n",
    "plt.legend(loc=0);"
   ]
  },
  {
   "cell_type": "code",
   "execution_count": null,
   "metadata": {},
   "outputs": [],
   "source": [
    "with Model() as model: # model specifications in PyMC3 are wrapped in a with-statement\n",
    "    # Define priors\n",
    "    sigma = HalfCauchy('sigma', beta=10, testval=1.)\n",
    "    intercept = Normal('Intercept', 0, sigma=20)\n",
    "    x_coeff = Normal('x', 0, sigma=20)\n",
    "\n",
    "    # Define likelihood\n",
    "    likelihood = Normal('y', mu=intercept + x_coeff * x,\n",
    "                        sigma=sigma, observed=y)\n",
    "\n",
    "    # Inference!\n",
    "    trace = sample(3000, cores=2) # draw 3000 posterior samples using NUTS sampling"
   ]
  },
  {
   "cell_type": "code",
   "execution_count": null,
   "metadata": {},
   "outputs": [],
   "source": [
    "with Model() as model:\n",
    "    # specify glm and pass in data. The resulting linear model, its likelihood and\n",
    "    # and all its parameters are automatically added to our model.\n",
    "    glm.GLM.from_formula('y ~ x', data)\n",
    "    trace = sample(3000, cores=2) # draw 3000 posterior samples using NUTS sampling"
   ]
  },
  {
   "cell_type": "code",
   "execution_count": null,
   "metadata": {
    "scrolled": false
   },
   "outputs": [],
   "source": [
    "from matplotlib.figure import Figure\n",
    "\n",
    "fig = Figure()\n",
    "traceplot(trace[100:])\n",
    "fig = plt.gcf()\n",
    "fig.savefig(\"img/test.png\")"
   ]
  },
  {
   "cell_type": "code",
   "execution_count": null,
   "metadata": {
    "scrolled": true
   },
   "outputs": [],
   "source": [
    "tarr = pm.traceplot(trace)\n"
   ]
  },
  {
   "cell_type": "code",
   "execution_count": null,
   "metadata": {},
   "outputs": [],
   "source": [
    "print(type(tarr))"
   ]
  },
  {
   "cell_type": "code",
   "execution_count": null,
   "metadata": {},
   "outputs": [],
   "source": [
    "fig"
   ]
  },
  {
   "cell_type": "code",
   "execution_count": null,
   "metadata": {},
   "outputs": [],
   "source": [
    "import io"
   ]
  },
  {
   "cell_type": "code",
   "execution_count": null,
   "metadata": {},
   "outputs": [],
   "source": [
    "buf = io.BytesIO()"
   ]
  },
  {
   "cell_type": "code",
   "execution_count": null,
   "metadata": {},
   "outputs": [],
   "source": [
    "buf"
   ]
  },
  {
   "cell_type": "markdown",
   "metadata": {},
   "source": [
    "# Warping to a function"
   ]
  },
  {
   "cell_type": "code",
   "execution_count": 2,
   "metadata": {},
   "outputs": [],
   "source": [
    "import pandas as pd\n",
    "import pymc3 as pm\n",
    "import matplotlib.pyplot as plt \n",
    "\n"
   ]
  },
  {
   "cell_type": "code",
   "execution_count": 3,
   "metadata": {},
   "outputs": [],
   "source": [
    "data = pd.read_csv(\"data/Advertising.csv\")"
   ]
  },
  {
   "cell_type": "code",
   "execution_count": 4,
   "metadata": {},
   "outputs": [
    {
     "data": {
      "text/html": [
       "<div>\n",
       "<style scoped>\n",
       "    .dataframe tbody tr th:only-of-type {\n",
       "        vertical-align: middle;\n",
       "    }\n",
       "\n",
       "    .dataframe tbody tr th {\n",
       "        vertical-align: top;\n",
       "    }\n",
       "\n",
       "    .dataframe thead th {\n",
       "        text-align: right;\n",
       "    }\n",
       "</style>\n",
       "<table border=\"1\" class=\"dataframe\">\n",
       "  <thead>\n",
       "    <tr style=\"text-align: right;\">\n",
       "      <th></th>\n",
       "      <th>TV</th>\n",
       "      <th>Radio</th>\n",
       "      <th>Newspaper</th>\n",
       "      <th>Sales</th>\n",
       "    </tr>\n",
       "  </thead>\n",
       "  <tbody>\n",
       "    <tr>\n",
       "      <td>0</td>\n",
       "      <td>230.1</td>\n",
       "      <td>37.8</td>\n",
       "      <td>69.2</td>\n",
       "      <td>22.1</td>\n",
       "    </tr>\n",
       "    <tr>\n",
       "      <td>1</td>\n",
       "      <td>44.5</td>\n",
       "      <td>39.3</td>\n",
       "      <td>45.1</td>\n",
       "      <td>10.4</td>\n",
       "    </tr>\n",
       "    <tr>\n",
       "      <td>2</td>\n",
       "      <td>17.2</td>\n",
       "      <td>45.9</td>\n",
       "      <td>69.3</td>\n",
       "      <td>12.0</td>\n",
       "    </tr>\n",
       "    <tr>\n",
       "      <td>3</td>\n",
       "      <td>151.5</td>\n",
       "      <td>41.3</td>\n",
       "      <td>58.5</td>\n",
       "      <td>16.5</td>\n",
       "    </tr>\n",
       "    <tr>\n",
       "      <td>4</td>\n",
       "      <td>180.8</td>\n",
       "      <td>10.8</td>\n",
       "      <td>58.4</td>\n",
       "      <td>17.9</td>\n",
       "    </tr>\n",
       "    <tr>\n",
       "      <td>...</td>\n",
       "      <td>...</td>\n",
       "      <td>...</td>\n",
       "      <td>...</td>\n",
       "      <td>...</td>\n",
       "    </tr>\n",
       "    <tr>\n",
       "      <td>195</td>\n",
       "      <td>38.2</td>\n",
       "      <td>3.7</td>\n",
       "      <td>13.8</td>\n",
       "      <td>7.6</td>\n",
       "    </tr>\n",
       "    <tr>\n",
       "      <td>196</td>\n",
       "      <td>94.2</td>\n",
       "      <td>4.9</td>\n",
       "      <td>8.1</td>\n",
       "      <td>14.0</td>\n",
       "    </tr>\n",
       "    <tr>\n",
       "      <td>197</td>\n",
       "      <td>177.0</td>\n",
       "      <td>9.3</td>\n",
       "      <td>6.4</td>\n",
       "      <td>14.8</td>\n",
       "    </tr>\n",
       "    <tr>\n",
       "      <td>198</td>\n",
       "      <td>283.6</td>\n",
       "      <td>42.0</td>\n",
       "      <td>66.2</td>\n",
       "      <td>25.5</td>\n",
       "    </tr>\n",
       "    <tr>\n",
       "      <td>199</td>\n",
       "      <td>232.1</td>\n",
       "      <td>8.6</td>\n",
       "      <td>8.7</td>\n",
       "      <td>18.4</td>\n",
       "    </tr>\n",
       "  </tbody>\n",
       "</table>\n",
       "<p>200 rows × 4 columns</p>\n",
       "</div>"
      ],
      "text/plain": [
       "        TV  Radio  Newspaper  Sales\n",
       "0    230.1   37.8       69.2   22.1\n",
       "1     44.5   39.3       45.1   10.4\n",
       "2     17.2   45.9       69.3   12.0\n",
       "3    151.5   41.3       58.5   16.5\n",
       "4    180.8   10.8       58.4   17.9\n",
       "..     ...    ...        ...    ...\n",
       "195   38.2    3.7       13.8    7.6\n",
       "196   94.2    4.9        8.1   14.0\n",
       "197  177.0    9.3        6.4   14.8\n",
       "198  283.6   42.0       66.2   25.5\n",
       "199  232.1    8.6        8.7   18.4\n",
       "\n",
       "[200 rows x 4 columns]"
      ]
     },
     "execution_count": 4,
     "metadata": {},
     "output_type": "execute_result"
    }
   ],
   "source": [
    "data"
   ]
  },
  {
   "cell_type": "code",
   "execution_count": 5,
   "metadata": {},
   "outputs": [],
   "source": [
    "# data = data.drop(\"Sales\", axis=1)"
   ]
  },
  {
   "cell_type": "code",
   "execution_count": 6,
   "metadata": {},
   "outputs": [],
   "source": [
    "X = data[[\"TV\", \"Radio\", \"Newspaper\"]]"
   ]
  },
  {
   "cell_type": "code",
   "execution_count": 7,
   "metadata": {},
   "outputs": [],
   "source": [
    "y = data['Sales']"
   ]
  },
  {
   "cell_type": "code",
   "execution_count": 8,
   "metadata": {},
   "outputs": [],
   "source": [
    "label_col = [\"TV\", \"Radio\", \"Newspaper\"]\n",
    "target_col = \"Sales\""
   ]
  },
  {
   "cell_type": "code",
   "execution_count": 9,
   "metadata": {},
   "outputs": [],
   "source": [
    "def linear_bayes(df, label_col, target_col, draw_sample=3000, chains=2):\n",
    "    feature_list = df.columns\n",
    "    feature_list = [i for i in feature_list if i != label_col]\n",
    "    \n",
    "    formula = str(target_col)+' ~ '+' + '.join(['%s' % variable for variable in label_col])\n",
    "    \n",
    "    with pm.Model() as normal_model:\n",
    "        family = pm.glm.families.Normal()\n",
    "        pm.GLM.from_formula(formula, data = df, family = family)\n",
    "        normal_trace = pm.sample(draws=2000, chains=2, tune=500)\n",
    "        \n",
    "        plt.figure()\n",
    "        # TODO modify figure size\n",
    "        pm.traceplot(normal_trace[800:])\n",
    "        plt.savefig(\"bayesian_regression_visualization.png\")\n",
    "        \n",
    "        return normal_trace, plt\n",
    "    "
   ]
  },
  {
   "cell_type": "code",
   "execution_count": 10,
   "metadata": {
    "scrolled": true
   },
   "outputs": [
    {
     "name": "stderr",
     "output_type": "stream",
     "text": [
      "Auto-assigning NUTS sampler...\n",
      "Initializing NUTS using jitter+adapt_diag...\n",
      "Multiprocess sampling (2 chains in 4 jobs)\n",
      "NUTS: [sd, Newspaper, Radio, TV, Intercept]\n",
      "Sampling 2 chains, 0 divergences: 100%|█████████████████| 5000/5000 [00:13<00:00, 378.24draws/s]\n",
      "The acceptance probability does not match the target. It is 0.8841995963439364, but should be close to 0.8. Try to increase the number of tuning steps.\n",
      "The acceptance probability does not match the target. It is 0.9179222864165378, but should be close to 0.8. Try to increase the number of tuning steps.\n",
      "C:\\Users\\Yiming.Yu\\AppData\\Local\\Continuum\\anaconda3\\lib\\site-packages\\arviz\\plots\\backends\\matplotlib\\distplot.py:38: UserWarning: Argument backend_kwargs has not effect in matplotlib.plot_distSupplied value won't be used\n",
      "  \"Argument backend_kwargs has not effect in matplotlib.plot_dist\"\n",
      "C:\\Users\\Yiming.Yu\\AppData\\Local\\Continuum\\anaconda3\\lib\\site-packages\\arviz\\plots\\backends\\matplotlib\\distplot.py:38: UserWarning: Argument backend_kwargs has not effect in matplotlib.plot_distSupplied value won't be used\n",
      "  \"Argument backend_kwargs has not effect in matplotlib.plot_dist\"\n",
      "C:\\Users\\Yiming.Yu\\AppData\\Local\\Continuum\\anaconda3\\lib\\site-packages\\arviz\\plots\\backends\\matplotlib\\distplot.py:38: UserWarning: Argument backend_kwargs has not effect in matplotlib.plot_distSupplied value won't be used\n",
      "  \"Argument backend_kwargs has not effect in matplotlib.plot_dist\"\n",
      "C:\\Users\\Yiming.Yu\\AppData\\Local\\Continuum\\anaconda3\\lib\\site-packages\\arviz\\plots\\backends\\matplotlib\\distplot.py:38: UserWarning: Argument backend_kwargs has not effect in matplotlib.plot_distSupplied value won't be used\n",
      "  \"Argument backend_kwargs has not effect in matplotlib.plot_dist\"\n",
      "C:\\Users\\Yiming.Yu\\AppData\\Local\\Continuum\\anaconda3\\lib\\site-packages\\arviz\\plots\\backends\\matplotlib\\distplot.py:38: UserWarning: Argument backend_kwargs has not effect in matplotlib.plot_distSupplied value won't be used\n",
      "  \"Argument backend_kwargs has not effect in matplotlib.plot_dist\"\n",
      "C:\\Users\\Yiming.Yu\\AppData\\Local\\Continuum\\anaconda3\\lib\\site-packages\\arviz\\plots\\backends\\matplotlib\\distplot.py:38: UserWarning: Argument backend_kwargs has not effect in matplotlib.plot_distSupplied value won't be used\n",
      "  \"Argument backend_kwargs has not effect in matplotlib.plot_dist\"\n",
      "C:\\Users\\Yiming.Yu\\AppData\\Local\\Continuum\\anaconda3\\lib\\site-packages\\arviz\\plots\\backends\\matplotlib\\distplot.py:38: UserWarning: Argument backend_kwargs has not effect in matplotlib.plot_distSupplied value won't be used\n",
      "  \"Argument backend_kwargs has not effect in matplotlib.plot_dist\"\n",
      "C:\\Users\\Yiming.Yu\\AppData\\Local\\Continuum\\anaconda3\\lib\\site-packages\\arviz\\plots\\backends\\matplotlib\\distplot.py:38: UserWarning: Argument backend_kwargs has not effect in matplotlib.plot_distSupplied value won't be used\n",
      "  \"Argument backend_kwargs has not effect in matplotlib.plot_dist\"\n",
      "C:\\Users\\Yiming.Yu\\AppData\\Local\\Continuum\\anaconda3\\lib\\site-packages\\arviz\\plots\\backends\\matplotlib\\distplot.py:38: UserWarning: Argument backend_kwargs has not effect in matplotlib.plot_distSupplied value won't be used\n",
      "  \"Argument backend_kwargs has not effect in matplotlib.plot_dist\"\n",
      "C:\\Users\\Yiming.Yu\\AppData\\Local\\Continuum\\anaconda3\\lib\\site-packages\\arviz\\plots\\backends\\matplotlib\\distplot.py:38: UserWarning: Argument backend_kwargs has not effect in matplotlib.plot_distSupplied value won't be used\n",
      "  \"Argument backend_kwargs has not effect in matplotlib.plot_dist\"\n"
     ]
    },
    {
     "data": {
      "text/plain": [
       "<Figure size 432x288 with 0 Axes>"
      ]
     },
     "metadata": {},
     "output_type": "display_data"
    },
    {
     "data": {
      "image/png": "[encoded data removed]",
      "text/plain": [
       "<Figure size 864x720 with 10 Axes>"
      ]
     },
     "metadata": {
      "needs_background": "light"
     },
     "output_type": "display_data"
    }
   ],
   "source": [
    "trace, plot = linear_bayes(data, label_col=label_col, target_col=target_col)"
   ]
  },
  {
   "cell_type": "code",
   "execution_count": 11,
   "metadata": {},
   "outputs": [
    {
     "data": {
      "text/plain": [
       "<MultiTrace: 2 chains, 2000 iterations, 6 variables>"
      ]
     },
     "execution_count": 11,
     "metadata": {},
     "output_type": "execute_result"
    }
   ],
   "source": [
    "trace"
   ]
  },
  {
   "cell_type": "code",
   "execution_count": 12,
   "metadata": {},
   "outputs": [
    {
     "data": {
      "text/plain": [
       "<Figure size 432x288 with 0 Axes>"
      ]
     },
     "metadata": {},
     "output_type": "display_data"
    }
   ],
   "source": [
    "plot.tight_layout()"
   ]
  },
  {
   "cell_type": "code",
   "execution_count": null,
   "metadata": {},
   "outputs": [],
   "source": []
  },
  {
   "cell_type": "code",
   "execution_count": 13,
   "metadata": {},
   "outputs": [
    {
     "data": {
      "text/plain": [
       "array([[ 4.65653213e+00,  4.87406145e+00,  4.42301327e+00, ...,\n",
       "         4.28990816e+00,  4.06791854e+00,  4.64202332e+00],\n",
       "       [ 5.55453201e-02,  5.32078745e-02,  5.43346322e-02, ...,\n",
       "         5.77447283e-02,  5.55090273e-02,  5.50650883e-02],\n",
       "       [ 1.03692807e-01,  1.21443374e-01,  9.66560032e-02, ...,\n",
       "         1.08045096e-01,  1.11025131e-01,  1.05560355e-01],\n",
       "       [ 3.80816044e-03, -4.82446616e-03,  9.51634823e-03, ...,\n",
       "         6.80600341e-04,  5.42959605e-03,  4.43907420e-03],\n",
       "       [ 5.93356181e-01,  4.38863353e-01,  5.67803334e-01, ...,\n",
       "         4.69995254e-01,  5.59979137e-01,  5.06992450e-01],\n",
       "       [ 1.81005310e+00,  1.55094334e+00,  1.76438702e+00, ...,\n",
       "         1.59998660e+00,  1.75063598e+00,  1.66029027e+00]])"
      ]
     },
     "execution_count": 13,
     "metadata": {},
     "output_type": "execute_result"
    }
   ],
   "source": [
    "np.array([trace[variable] for variable in trace.varnames])"
   ]
  },
  {
   "cell_type": "code",
   "execution_count": 14,
   "metadata": {},
   "outputs": [
    {
     "data": {
      "text/html": [
       "<div>\n",
       "<style scoped>\n",
       "    .dataframe tbody tr th:only-of-type {\n",
       "        vertical-align: middle;\n",
       "    }\n",
       "\n",
       "    .dataframe tbody tr th {\n",
       "        vertical-align: top;\n",
       "    }\n",
       "\n",
       "    .dataframe thead th {\n",
       "        text-align: right;\n",
       "    }\n",
       "</style>\n",
       "<table border=\"1\" class=\"dataframe\">\n",
       "  <thead>\n",
       "    <tr style=\"text-align: right;\">\n",
       "      <th></th>\n",
       "      <th>0</th>\n",
       "      <th>1</th>\n",
       "      <th>2</th>\n",
       "      <th>3</th>\n",
       "      <th>4</th>\n",
       "      <th>5</th>\n",
       "      <th>6</th>\n",
       "      <th>7</th>\n",
       "      <th>8</th>\n",
       "      <th>9</th>\n",
       "      <th>...</th>\n",
       "      <th>3990</th>\n",
       "      <th>3991</th>\n",
       "      <th>3992</th>\n",
       "      <th>3993</th>\n",
       "      <th>3994</th>\n",
       "      <th>3995</th>\n",
       "      <th>3996</th>\n",
       "      <th>3997</th>\n",
       "      <th>3998</th>\n",
       "      <th>3999</th>\n",
       "    </tr>\n",
       "  </thead>\n",
       "  <tbody>\n",
       "    <tr>\n",
       "      <td>0</td>\n",
       "      <td>4.656532</td>\n",
       "      <td>4.874061</td>\n",
       "      <td>4.423013</td>\n",
       "      <td>4.708698</td>\n",
       "      <td>4.662414</td>\n",
       "      <td>4.567443</td>\n",
       "      <td>4.896506</td>\n",
       "      <td>4.924396</td>\n",
       "      <td>4.938930</td>\n",
       "      <td>4.697050</td>\n",
       "      <td>...</td>\n",
       "      <td>4.635357</td>\n",
       "      <td>4.496463</td>\n",
       "      <td>5.076685</td>\n",
       "      <td>4.148625</td>\n",
       "      <td>4.771064</td>\n",
       "      <td>4.815024</td>\n",
       "      <td>4.829427</td>\n",
       "      <td>4.289908</td>\n",
       "      <td>4.067919</td>\n",
       "      <td>4.642023</td>\n",
       "    </tr>\n",
       "    <tr>\n",
       "      <td>1</td>\n",
       "      <td>0.055545</td>\n",
       "      <td>0.053208</td>\n",
       "      <td>0.054335</td>\n",
       "      <td>0.053116</td>\n",
       "      <td>0.053593</td>\n",
       "      <td>0.054817</td>\n",
       "      <td>0.054033</td>\n",
       "      <td>0.053193</td>\n",
       "      <td>0.054005</td>\n",
       "      <td>0.053853</td>\n",
       "      <td>...</td>\n",
       "      <td>0.054435</td>\n",
       "      <td>0.053748</td>\n",
       "      <td>0.053609</td>\n",
       "      <td>0.056294</td>\n",
       "      <td>0.054116</td>\n",
       "      <td>0.053274</td>\n",
       "      <td>0.052371</td>\n",
       "      <td>0.057745</td>\n",
       "      <td>0.055509</td>\n",
       "      <td>0.055065</td>\n",
       "    </tr>\n",
       "    <tr>\n",
       "      <td>2</td>\n",
       "      <td>0.103693</td>\n",
       "      <td>0.121443</td>\n",
       "      <td>0.096656</td>\n",
       "      <td>0.116548</td>\n",
       "      <td>0.113311</td>\n",
       "      <td>0.108409</td>\n",
       "      <td>0.097644</td>\n",
       "      <td>0.106898</td>\n",
       "      <td>0.105414</td>\n",
       "      <td>0.107117</td>\n",
       "      <td>...</td>\n",
       "      <td>0.119355</td>\n",
       "      <td>0.122124</td>\n",
       "      <td>0.091486</td>\n",
       "      <td>0.120593</td>\n",
       "      <td>0.107396</td>\n",
       "      <td>0.105773</td>\n",
       "      <td>0.112420</td>\n",
       "      <td>0.108045</td>\n",
       "      <td>0.111025</td>\n",
       "      <td>0.105560</td>\n",
       "    </tr>\n",
       "    <tr>\n",
       "      <td>3</td>\n",
       "      <td>0.003808</td>\n",
       "      <td>-0.004824</td>\n",
       "      <td>0.009516</td>\n",
       "      <td>-0.003522</td>\n",
       "      <td>0.001662</td>\n",
       "      <td>-0.000272</td>\n",
       "      <td>0.007283</td>\n",
       "      <td>-0.002883</td>\n",
       "      <td>-0.004608</td>\n",
       "      <td>-0.001246</td>\n",
       "      <td>...</td>\n",
       "      <td>-0.000381</td>\n",
       "      <td>-0.001884</td>\n",
       "      <td>-0.000302</td>\n",
       "      <td>-0.001054</td>\n",
       "      <td>-0.000513</td>\n",
       "      <td>-0.003269</td>\n",
       "      <td>-0.006506</td>\n",
       "      <td>0.000681</td>\n",
       "      <td>0.005430</td>\n",
       "      <td>0.004439</td>\n",
       "    </tr>\n",
       "    <tr>\n",
       "      <td>4</td>\n",
       "      <td>0.593356</td>\n",
       "      <td>0.438863</td>\n",
       "      <td>0.567803</td>\n",
       "      <td>0.511949</td>\n",
       "      <td>0.496081</td>\n",
       "      <td>0.463083</td>\n",
       "      <td>0.552323</td>\n",
       "      <td>0.498086</td>\n",
       "      <td>0.477785</td>\n",
       "      <td>0.547938</td>\n",
       "      <td>...</td>\n",
       "      <td>0.499277</td>\n",
       "      <td>0.475571</td>\n",
       "      <td>0.497026</td>\n",
       "      <td>0.570524</td>\n",
       "      <td>0.417188</td>\n",
       "      <td>0.438444</td>\n",
       "      <td>0.541207</td>\n",
       "      <td>0.469995</td>\n",
       "      <td>0.559979</td>\n",
       "      <td>0.506992</td>\n",
       "    </tr>\n",
       "    <tr>\n",
       "      <td>5</td>\n",
       "      <td>1.810053</td>\n",
       "      <td>1.550943</td>\n",
       "      <td>1.764387</td>\n",
       "      <td>1.668541</td>\n",
       "      <td>1.642273</td>\n",
       "      <td>1.588966</td>\n",
       "      <td>1.737284</td>\n",
       "      <td>1.645569</td>\n",
       "      <td>1.612499</td>\n",
       "      <td>1.729683</td>\n",
       "      <td>...</td>\n",
       "      <td>1.647530</td>\n",
       "      <td>1.608933</td>\n",
       "      <td>1.643826</td>\n",
       "      <td>1.769194</td>\n",
       "      <td>1.517687</td>\n",
       "      <td>1.550293</td>\n",
       "      <td>1.718079</td>\n",
       "      <td>1.599987</td>\n",
       "      <td>1.750636</td>\n",
       "      <td>1.660290</td>\n",
       "    </tr>\n",
       "  </tbody>\n",
       "</table>\n",
       "<p>6 rows × 4000 columns</p>\n",
       "</div>"
      ],
      "text/plain": [
       "       0         1         2         3         4         5         6     \\\n",
       "0  4.656532  4.874061  4.423013  4.708698  4.662414  4.567443  4.896506   \n",
       "1  0.055545  0.053208  0.054335  0.053116  0.053593  0.054817  0.054033   \n",
       "2  0.103693  0.121443  0.096656  0.116548  0.113311  0.108409  0.097644   \n",
       "3  0.003808 -0.004824  0.009516 -0.003522  0.001662 -0.000272  0.007283   \n",
       "4  0.593356  0.438863  0.567803  0.511949  0.496081  0.463083  0.552323   \n",
       "5  1.810053  1.550943  1.764387  1.668541  1.642273  1.588966  1.737284   \n",
       "\n",
       "       7         8         9     ...      3990      3991      3992      3993  \\\n",
       "0  4.924396  4.938930  4.697050  ...  4.635357  4.496463  5.076685  4.148625   \n",
       "1  0.053193  0.054005  0.053853  ...  0.054435  0.053748  0.053609  0.056294   \n",
       "2  0.106898  0.105414  0.107117  ...  0.119355  0.122124  0.091486  0.120593   \n",
       "3 -0.002883 -0.004608 -0.001246  ... -0.000381 -0.001884 -0.000302 -0.001054   \n",
       "4  0.498086  0.477785  0.547938  ...  0.499277  0.475571  0.497026  0.570524   \n",
       "5  1.645569  1.612499  1.729683  ...  1.647530  1.608933  1.643826  1.769194   \n",
       "\n",
       "       3994      3995      3996      3997      3998      3999  \n",
       "0  4.771064  4.815024  4.829427  4.289908  4.067919  4.642023  \n",
       "1  0.054116  0.053274  0.052371  0.057745  0.055509  0.055065  \n",
       "2  0.107396  0.105773  0.112420  0.108045  0.111025  0.105560  \n",
       "3 -0.000513 -0.003269 -0.006506  0.000681  0.005430  0.004439  \n",
       "4  0.417188  0.438444  0.541207  0.469995  0.559979  0.506992  \n",
       "5  1.517687  1.550293  1.718079  1.599987  1.750636  1.660290  \n",
       "\n",
       "[6 rows x 4000 columns]"
      ]
     },
     "execution_count": 14,
     "metadata": {},
     "output_type": "execute_result"
    }
   ],
   "source": [
    "pd.DataFrame(data=np.array([trace[variable] for variable in trace.varnames]))"
   ]
  },
  {
   "cell_type": "code",
   "execution_count": 15,
   "metadata": {},
   "outputs": [
    {
     "data": {
      "text/plain": [
       "array([4.62387021e+00, 5.44624653e-02, 1.07241549e-01, 2.77254891e-04,\n",
       "       5.13819536e-01, 1.67396409e+00])"
      ]
     },
     "execution_count": 15,
     "metadata": {},
     "output_type": "execute_result"
    }
   ],
   "source": [
    "np.array([np.mean(trace[variable]) for variable in trace.varnames])"
   ]
  },
  {
   "cell_type": "code",
   "execution_count": null,
   "metadata": {},
   "outputs": [],
   "source": [
    "np.array([np.mean(trace[variable]) for variable in trace.varnames])"
   ]
  },
  {
   "cell_type": "code",
   "execution_count": 18,
   "metadata": {
    "scrolled": true
   },
   "outputs": [],
   "source": [
    "label_list = [i for i in data[label_col].columns]"
   ]
  },
  {
   "cell_type": "code",
   "execution_count": 19,
   "metadata": {},
   "outputs": [
    {
     "data": {
      "text/plain": [
       "['TV', 'Radio', 'Newspaper']"
      ]
     },
     "execution_count": 19,
     "metadata": {},
     "output_type": "execute_result"
    }
   ],
   "source": [
    "label_list"
   ]
  },
  {
   "cell_type": "code",
   "execution_count": 20,
   "metadata": {},
   "outputs": [
    {
     "data": {
      "text/html": [
       "<div>\n",
       "<style scoped>\n",
       "    .dataframe tbody tr th:only-of-type {\n",
       "        vertical-align: middle;\n",
       "    }\n",
       "\n",
       "    .dataframe tbody tr th {\n",
       "        vertical-align: top;\n",
       "    }\n",
       "\n",
       "    .dataframe thead th {\n",
       "        text-align: right;\n",
       "    }\n",
       "</style>\n",
       "<table border=\"1\" class=\"dataframe\">\n",
       "  <thead>\n",
       "    <tr style=\"text-align: right;\">\n",
       "      <th></th>\n",
       "      <th>mean</th>\n",
       "      <th>sd</th>\n",
       "      <th>hpd_3%</th>\n",
       "      <th>hpd_97%</th>\n",
       "      <th>mcse_mean</th>\n",
       "      <th>mcse_sd</th>\n",
       "      <th>ess_mean</th>\n",
       "      <th>ess_sd</th>\n",
       "      <th>ess_bulk</th>\n",
       "      <th>ess_tail</th>\n",
       "      <th>r_hat</th>\n",
       "    </tr>\n",
       "  </thead>\n",
       "  <tbody>\n",
       "    <tr>\n",
       "      <td>Intercept</td>\n",
       "      <td>4.624</td>\n",
       "      <td>0.312</td>\n",
       "      <td>4.045</td>\n",
       "      <td>5.202</td>\n",
       "      <td>0.007</td>\n",
       "      <td>0.005</td>\n",
       "      <td>2247.0</td>\n",
       "      <td>2214.0</td>\n",
       "      <td>2279.0</td>\n",
       "      <td>1904.0</td>\n",
       "      <td>1.0</td>\n",
       "    </tr>\n",
       "    <tr>\n",
       "      <td>TV</td>\n",
       "      <td>0.054</td>\n",
       "      <td>0.001</td>\n",
       "      <td>0.052</td>\n",
       "      <td>0.057</td>\n",
       "      <td>0.000</td>\n",
       "      <td>0.000</td>\n",
       "      <td>2847.0</td>\n",
       "      <td>2847.0</td>\n",
       "      <td>2866.0</td>\n",
       "      <td>2096.0</td>\n",
       "      <td>1.0</td>\n",
       "    </tr>\n",
       "    <tr>\n",
       "      <td>Radio</td>\n",
       "      <td>0.107</td>\n",
       "      <td>0.009</td>\n",
       "      <td>0.091</td>\n",
       "      <td>0.123</td>\n",
       "      <td>0.000</td>\n",
       "      <td>0.000</td>\n",
       "      <td>2942.0</td>\n",
       "      <td>2942.0</td>\n",
       "      <td>2942.0</td>\n",
       "      <td>2484.0</td>\n",
       "      <td>1.0</td>\n",
       "    </tr>\n",
       "    <tr>\n",
       "      <td>Newspaper</td>\n",
       "      <td>0.000</td>\n",
       "      <td>0.006</td>\n",
       "      <td>-0.011</td>\n",
       "      <td>0.011</td>\n",
       "      <td>0.000</td>\n",
       "      <td>0.000</td>\n",
       "      <td>3376.0</td>\n",
       "      <td>1720.0</td>\n",
       "      <td>3376.0</td>\n",
       "      <td>2156.0</td>\n",
       "      <td>1.0</td>\n",
       "    </tr>\n",
       "    <tr>\n",
       "      <td>sd</td>\n",
       "      <td>1.674</td>\n",
       "      <td>0.088</td>\n",
       "      <td>1.510</td>\n",
       "      <td>1.835</td>\n",
       "      <td>0.002</td>\n",
       "      <td>0.001</td>\n",
       "      <td>3440.0</td>\n",
       "      <td>3386.0</td>\n",
       "      <td>3556.0</td>\n",
       "      <td>2484.0</td>\n",
       "      <td>1.0</td>\n",
       "    </tr>\n",
       "  </tbody>\n",
       "</table>\n",
       "</div>"
      ],
      "text/plain": [
       "            mean     sd  hpd_3%  hpd_97%  mcse_mean  mcse_sd  ess_mean  \\\n",
       "Intercept  4.624  0.312   4.045    5.202      0.007    0.005    2247.0   \n",
       "TV         0.054  0.001   0.052    0.057      0.000    0.000    2847.0   \n",
       "Radio      0.107  0.009   0.091    0.123      0.000    0.000    2942.0   \n",
       "Newspaper  0.000  0.006  -0.011    0.011      0.000    0.000    3376.0   \n",
       "sd         1.674  0.088   1.510    1.835      0.002    0.001    3440.0   \n",
       "\n",
       "           ess_sd  ess_bulk  ess_tail  r_hat  \n",
       "Intercept  2214.0    2279.0    1904.0    1.0  \n",
       "TV         2847.0    2866.0    2096.0    1.0  \n",
       "Radio      2942.0    2942.0    2484.0    1.0  \n",
       "Newspaper  1720.0    3376.0    2156.0    1.0  \n",
       "sd         3386.0    3556.0    2484.0    1.0  "
      ]
     },
     "execution_count": 20,
     "metadata": {},
     "output_type": "execute_result"
    }
   ],
   "source": [
    "pm.summary(trace)"
   ]
  },
  {
   "cell_type": "code",
   "execution_count": 27,
   "metadata": {},
   "outputs": [],
   "source": [
    "coef_table = pm.summary(trace)"
   ]
  },
  {
   "cell_type": "code",
   "execution_count": 36,
   "metadata": {},
   "outputs": [
    {
     "data": {
      "text/html": [
       "<div>\n",
       "<style scoped>\n",
       "    .dataframe tbody tr th:only-of-type {\n",
       "        vertical-align: middle;\n",
       "    }\n",
       "\n",
       "    .dataframe tbody tr th {\n",
       "        vertical-align: top;\n",
       "    }\n",
       "\n",
       "    .dataframe thead th {\n",
       "        text-align: right;\n",
       "    }\n",
       "</style>\n",
       "<table border=\"1\" class=\"dataframe\">\n",
       "  <thead>\n",
       "    <tr style=\"text-align: right;\">\n",
       "      <th></th>\n",
       "      <th>Intercept</th>\n",
       "      <th>TV</th>\n",
       "      <th>Radio</th>\n",
       "      <th>Newspaper</th>\n",
       "      <th>sd</th>\n",
       "    </tr>\n",
       "  </thead>\n",
       "  <tbody>\n",
       "    <tr>\n",
       "      <td>mean</td>\n",
       "      <td>4.624</td>\n",
       "      <td>0.054</td>\n",
       "      <td>0.107</td>\n",
       "      <td>0.000</td>\n",
       "      <td>1.674</td>\n",
       "    </tr>\n",
       "    <tr>\n",
       "      <td>sd</td>\n",
       "      <td>0.312</td>\n",
       "      <td>0.001</td>\n",
       "      <td>0.009</td>\n",
       "      <td>0.006</td>\n",
       "      <td>0.088</td>\n",
       "    </tr>\n",
       "    <tr>\n",
       "      <td>hpd_3%</td>\n",
       "      <td>4.045</td>\n",
       "      <td>0.052</td>\n",
       "      <td>0.091</td>\n",
       "      <td>-0.011</td>\n",
       "      <td>1.510</td>\n",
       "    </tr>\n",
       "    <tr>\n",
       "      <td>hpd_97%</td>\n",
       "      <td>5.202</td>\n",
       "      <td>0.057</td>\n",
       "      <td>0.123</td>\n",
       "      <td>0.011</td>\n",
       "      <td>1.835</td>\n",
       "    </tr>\n",
       "    <tr>\n",
       "      <td>mcse_mean</td>\n",
       "      <td>0.007</td>\n",
       "      <td>0.000</td>\n",
       "      <td>0.000</td>\n",
       "      <td>0.000</td>\n",
       "      <td>0.002</td>\n",
       "    </tr>\n",
       "    <tr>\n",
       "      <td>mcse_sd</td>\n",
       "      <td>0.005</td>\n",
       "      <td>0.000</td>\n",
       "      <td>0.000</td>\n",
       "      <td>0.000</td>\n",
       "      <td>0.001</td>\n",
       "    </tr>\n",
       "    <tr>\n",
       "      <td>ess_mean</td>\n",
       "      <td>2247.000</td>\n",
       "      <td>2847.000</td>\n",
       "      <td>2942.000</td>\n",
       "      <td>3376.000</td>\n",
       "      <td>3440.000</td>\n",
       "    </tr>\n",
       "    <tr>\n",
       "      <td>ess_sd</td>\n",
       "      <td>2214.000</td>\n",
       "      <td>2847.000</td>\n",
       "      <td>2942.000</td>\n",
       "      <td>1720.000</td>\n",
       "      <td>3386.000</td>\n",
       "    </tr>\n",
       "    <tr>\n",
       "      <td>ess_bulk</td>\n",
       "      <td>2279.000</td>\n",
       "      <td>2866.000</td>\n",
       "      <td>2942.000</td>\n",
       "      <td>3376.000</td>\n",
       "      <td>3556.000</td>\n",
       "    </tr>\n",
       "    <tr>\n",
       "      <td>ess_tail</td>\n",
       "      <td>1904.000</td>\n",
       "      <td>2096.000</td>\n",
       "      <td>2484.000</td>\n",
       "      <td>2156.000</td>\n",
       "      <td>2484.000</td>\n",
       "    </tr>\n",
       "    <tr>\n",
       "      <td>r_hat</td>\n",
       "      <td>1.000</td>\n",
       "      <td>1.000</td>\n",
       "      <td>1.000</td>\n",
       "      <td>1.000</td>\n",
       "      <td>1.000</td>\n",
       "    </tr>\n",
       "  </tbody>\n",
       "</table>\n",
       "</div>"
      ],
      "text/plain": [
       "           Intercept        TV     Radio  Newspaper        sd\n",
       "mean           4.624     0.054     0.107      0.000     1.674\n",
       "sd             0.312     0.001     0.009      0.006     0.088\n",
       "hpd_3%         4.045     0.052     0.091     -0.011     1.510\n",
       "hpd_97%        5.202     0.057     0.123      0.011     1.835\n",
       "mcse_mean      0.007     0.000     0.000      0.000     0.002\n",
       "mcse_sd        0.005     0.000     0.000      0.000     0.001\n",
       "ess_mean    2247.000  2847.000  2942.000   3376.000  3440.000\n",
       "ess_sd      2214.000  2847.000  2942.000   1720.000  3386.000\n",
       "ess_bulk    2279.000  2866.000  2942.000   3376.000  3556.000\n",
       "ess_tail    1904.000  2096.000  2484.000   2156.000  2484.000\n",
       "r_hat          1.000     1.000     1.000      1.000     1.000"
      ]
     },
     "execution_count": 36,
     "metadata": {},
     "output_type": "execute_result"
    }
   ],
   "source": [
    "coef_table.T"
   ]
  },
  {
   "cell_type": "code",
   "execution_count": 34,
   "metadata": {},
   "outputs": [
    {
     "data": {
      "text/html": [
       "<div>\n",
       "<style scoped>\n",
       "    .dataframe tbody tr th:only-of-type {\n",
       "        vertical-align: middle;\n",
       "    }\n",
       "\n",
       "    .dataframe tbody tr th {\n",
       "        vertical-align: top;\n",
       "    }\n",
       "\n",
       "    .dataframe thead th {\n",
       "        text-align: right;\n",
       "    }\n",
       "</style>\n",
       "<table border=\"1\" class=\"dataframe\">\n",
       "  <thead>\n",
       "    <tr style=\"text-align: right;\">\n",
       "      <th></th>\n",
       "      <th>Intercept</th>\n",
       "      <th>TV</th>\n",
       "      <th>Radio</th>\n",
       "      <th>Newspaper</th>\n",
       "      <th>sd</th>\n",
       "    </tr>\n",
       "  </thead>\n",
       "  <tbody>\n",
       "    <tr>\n",
       "      <td>mean</td>\n",
       "      <td>4.624</td>\n",
       "      <td>0.054</td>\n",
       "      <td>0.107</td>\n",
       "      <td>0.0</td>\n",
       "      <td>1.674</td>\n",
       "    </tr>\n",
       "  </tbody>\n",
       "</table>\n",
       "</div>"
      ],
      "text/plain": [
       "      Intercept     TV  Radio  Newspaper     sd\n",
       "mean      4.624  0.054  0.107        0.0  1.674"
      ]
     },
     "execution_count": 34,
     "metadata": {},
     "output_type": "execute_result"
    }
   ],
   "source": [
    "coef_table.T.loc[['mean'], :]"
   ]
  },
  {
   "cell_type": "code",
   "execution_count": 35,
   "metadata": {},
   "outputs": [
    {
     "data": {
      "text/plain": [
       "Intercept    4.624\n",
       "TV           0.054\n",
       "Radio        0.107\n",
       "Newspaper    0.000\n",
       "sd           1.674\n",
       "Name: mean, dtype: float64"
      ]
     },
     "execution_count": 35,
     "metadata": {},
     "output_type": "execute_result"
    }
   ],
   "source": [
    "coef_table.T.iloc[0, :]"
   ]
  },
  {
   "cell_type": "code",
   "execution_count": 43,
   "metadata": {},
   "outputs": [],
   "source": [
    "ddd = coef_table.T.loc[['mean'], :].to_dict('records')"
   ]
  },
  {
   "cell_type": "code",
   "execution_count": 44,
   "metadata": {
    "scrolled": true
   },
   "outputs": [
    {
     "data": {
      "text/plain": [
       "[{'Intercept': 4.624,\n",
       "  'TV': 0.054,\n",
       "  'Radio': 0.107,\n",
       "  'Newspaper': 0.0,\n",
       "  'sd': 1.674}]"
      ]
     },
     "execution_count": 44,
     "metadata": {},
     "output_type": "execute_result"
    }
   ],
   "source": [
    "ddd"
   ]
  },
  {
   "cell_type": "code",
   "execution_count": 47,
   "metadata": {},
   "outputs": [],
   "source": [
    "col = [{\"name\": i, \"id\": i} for i in coef_table.T.loc[['mean'], :].columns]"
   ]
  },
  {
   "cell_type": "code",
   "execution_count": 48,
   "metadata": {},
   "outputs": [
    {
     "data": {
      "text/plain": [
       "[{'name': 'Intercept', 'id': 'Intercept'},\n",
       " {'name': 'TV', 'id': 'TV'},\n",
       " {'name': 'Radio', 'id': 'Radio'},\n",
       " {'name': 'Newspaper', 'id': 'Newspaper'},\n",
       " {'name': 'sd', 'id': 'sd'}]"
      ]
     },
     "execution_count": 48,
     "metadata": {},
     "output_type": "execute_result"
    }
   ],
   "source": [
    "col"
   ]
  },
  {
   "cell_type": "code",
   "execution_count": null,
   "metadata": {},
   "outputs": [],
   "source": []
  },
  {
   "cell_type": "code",
   "execution_count": null,
   "metadata": {},
   "outputs": [],
   "source": []
  },
  {
   "cell_type": "code",
   "execution_count": 23,
   "metadata": {},
   "outputs": [],
   "source": [
    "from sklearn.linear_model import LinearRegression"
   ]
  },
  {
   "cell_type": "code",
   "execution_count": 24,
   "metadata": {},
   "outputs": [],
   "source": [
    "lr = LinearRegression().fit(X, y)"
   ]
  },
  {
   "cell_type": "code",
   "execution_count": 25,
   "metadata": {},
   "outputs": [
    {
     "data": {
      "text/plain": [
       "array([0.05444578, 0.10700123, 0.00033566])"
      ]
     },
     "execution_count": 25,
     "metadata": {},
     "output_type": "execute_result"
    }
   ],
   "source": [
    "lr.coef_"
   ]
  },
  {
   "cell_type": "code",
   "execution_count": 26,
   "metadata": {},
   "outputs": [
    {
     "data": {
      "text/plain": [
       "4.625124078808653"
      ]
     },
     "execution_count": 26,
     "metadata": {},
     "output_type": "execute_result"
    }
   ],
   "source": [
    "lr.intercept_"
   ]
  },
  {
   "cell_type": "code",
   "execution_count": null,
   "metadata": {},
   "outputs": [],
   "source": []
  },
  {
   "cell_type": "code",
   "execution_count": null,
   "metadata": {},
   "outputs": [],
   "source": []
  },
  {
   "cell_type": "code",
   "execution_count": null,
   "metadata": {},
   "outputs": [],
   "source": [
    "df.columns = df.columns.str.strip()"
   ]
  },
  {
   "cell_type": "code",
   "execution_count": null,
   "metadata": {},
   "outputs": [],
   "source": [
    "import re"
   ]
  },
  {
   "cell_type": "code",
   "execution_count": null,
   "metadata": {},
   "outputs": [],
   "source": [
    "df_1 = df.rename(columns=lambda x: re.sub(r'\\W+', '', x))"
   ]
  },
  {
   "cell_type": "code",
   "execution_count": null,
   "metadata": {},
   "outputs": [],
   "source": [
    "df_1"
   ]
  },
  {
   "cell_type": "code",
   "execution_count": null,
   "metadata": {},
   "outputs": [],
   "source": []
  },
  {
   "cell_type": "code",
   "execution_count": null,
   "metadata": {},
   "outputs": [],
   "source": []
  },
  {
   "cell_type": "code",
   "execution_count": null,
   "metadata": {},
   "outputs": [],
   "source": []
  },
  {
   "cell_type": "code",
   "execution_count": null,
   "metadata": {},
   "outputs": [],
   "source": []
  },
  {
   "cell_type": "code",
   "execution_count": null,
   "metadata": {},
   "outputs": [],
   "source": []
  },
  {
   "cell_type": "code",
   "execution_count": null,
   "metadata": {},
   "outputs": [],
   "source": []
  },
  {
   "cell_type": "code",
   "execution_count": null,
   "metadata": {},
   "outputs": [],
   "source": [
    "from sklearn.linear_model import LinearRegression\n",
    "from sklearn.metrics import r2_score"
   ]
  },
  {
   "cell_type": "code",
   "execution_count": null,
   "metadata": {},
   "outputs": [],
   "source": [
    "reg = LinearRegression().fit(df[label_col], df[target_col])"
   ]
  },
  {
   "cell_type": "code",
   "execution_count": null,
   "metadata": {},
   "outputs": [],
   "source": [
    "pred_y = reg.predict(df[label_col])"
   ]
  },
  {
   "cell_type": "code",
   "execution_count": null,
   "metadata": {},
   "outputs": [],
   "source": [
    "r2_score(df[target_col], pred_y)"
   ]
  },
  {
   "cell_type": "code",
   "execution_count": null,
   "metadata": {},
   "outputs": [],
   "source": []
  },
  {
   "cell_type": "code",
   "execution_count": null,
   "metadata": {
    "scrolled": true
   },
   "outputs": [],
   "source": [
    "from sklearn.linear_model import ARDRegression, BayesianRidge\n",
    "import pandas as pd\n",
    "\n",
    "def bayes_linear_modeling(df, selected_col, target_col, model_option, alpha_1=0.005, lambda_1=0.005, alpha_2=0.005, lambda_2=0.005):\n",
    "    \"\"\"\n",
    "    alpha_init, lambda_init can be set in sklearn==0.22, which can also impact the estimators\n",
    "    posterior_mean = alpha/lambda in bayesian ridge\n",
    "    alpha, lambda are shape parameter for Gamma distribution\"\"\"\n",
    "    feature_list = df.columns\n",
    "    feature_list = [i for i in feature_list if i != selected_col]\n",
    "    \n",
    "    if model_option == \"Bayesian Ridge\":\n",
    "        clf = BayesianRidge(alpha_1=alpha_1, lambda_1=lambda_1, alpha_2=alpha_2, lambda_2=lambda_2, normalize=True).fit(df[selected_col], y)\n",
    "        return clf.coef_\n",
    "    elif model_option == \"Bayesian Linear\":\n",
    "        # Using PyMC3\n",
    "        formula = str(target_col)+' ~ '+' + '.join(['%s' % variable for variable in selected_col])\n",
    "\n",
    "        with pm.Model() as normal_model:\n",
    "            family = pm.glm.families.Normal()\n",
    "            pm.GLM.from_formula(formula, data = df, family = family)\n",
    "            normal_trace = pm.sample(draws=2000, chains=2, tune=500)\n",
    "            \n",
    "            return np.array([normal_trace[variable] for variable in normal_trace.varnames])"
   ]
  },
  {
   "cell_type": "code",
   "execution_count": null,
   "metadata": {},
   "outputs": [],
   "source": []
  },
  {
   "cell_type": "code",
   "execution_count": null,
   "metadata": {},
   "outputs": [],
   "source": []
  },
  {
   "cell_type": "code",
   "execution_count": null,
   "metadata": {},
   "outputs": [],
   "source": []
  },
  {
   "cell_type": "code",
   "execution_count": null,
   "metadata": {},
   "outputs": [],
   "source": []
  },
  {
   "cell_type": "code",
   "execution_count": null,
   "metadata": {},
   "outputs": [],
   "source": []
  }
 ],
 "metadata": {
  "kernelspec": {
   "display_name": "Python 3",
   "language": "python",
   "name": "python3"
  },
  "language_info": {
   "codemirror_mode": {
    "name": "ipython",
    "version": 3
   },
   "file_extension": ".py",
   "mimetype": "text/x-python",
   "name": "python",
   "nbconvert_exporter": "python",
   "pygments_lexer": "ipython3",
   "version": "3.7.4"
  }
 },
 "nbformat": 4,
 "nbformat_minor": 2
}
